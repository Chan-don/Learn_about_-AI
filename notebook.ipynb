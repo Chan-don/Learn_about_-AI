{
 "cells": [
  {
   "cell_type": "code",
   "execution_count": 2,
   "metadata": {},
   "outputs": [
    {
     "data": {
      "text/plain": [
       "'what is the capital of Seoul'"
      ]
     },
     "execution_count": 2,
     "metadata": {},
     "output_type": "execute_result"
    }
   ],
   "source": [
    "from langchain.chat_models import ChatOpenAI\n",
    "from langchain.prompts import PromptTemplate\n",
    "from langchain.prompts.few_shot import FewShotPromptTemplate\n",
    "#prompts.few_shot is shortcut to prompts. \n",
    "from langchain.callbacks import StreamingStdOutCallbackHandler\n",
    "#callbacks is the live streaming the chat answer while run code\n",
    "\n",
    "chat = ChatOpenAI(\n",
    "    temperature=0.1, streaming=True, callbacks=[StreamingStdOutCallbackHandler()]\n",
    "    #temperature valuse high == creativity is high.\n",
    "    #streaming is live streaming. so, streaming = True means run streaming.\n",
    "    # and callbacks code is to combine the streaming code\n",
    ")\n",
    "\n",
    "t = PromptTemplate.from_template(\"what is the capital of {country}\")\n",
    "\n",
    "t.format(country=\"france\")\n",
    "# Upper code is shortcode to show prompts\n",
    "\n",
    "t = PromptTemplate(\n",
    "    template= \"what is the capital of {country}\",\n",
    "    input_variables=[\"country\"],\n",
    ")\n",
    "t.format(country=\"Seoul\")\n",
    "# Upper code is principled to show prompts."
   ]
  }
 ],
 "metadata": {
  "kernelspec": {
   "display_name": "env",
   "language": "python",
   "name": "python3"
  },
  "language_info": {
   "codemirror_mode": {
    "name": "ipython",
    "version": 3
   },
   "file_extension": ".py",
   "mimetype": "text/x-python",
   "name": "python",
   "nbconvert_exporter": "python",
   "pygments_lexer": "ipython3",
   "version": "3.11.6"
  }
 },
 "nbformat": 4,
 "nbformat_minor": 2
}
