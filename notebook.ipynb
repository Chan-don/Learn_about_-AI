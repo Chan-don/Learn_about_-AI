{
 "cells": [
  {
   "cell_type": "code",
   "execution_count": 19,
   "metadata": {},
   "outputs": [],
   "source": [
    "# If you store memory at llm model\n",
    "# You use 'ConversationSummaryMemory' SummaryMemory \n",
    "# ConverstionSummaryMemory is not just storage.\n",
    "# That is to give a summary of the conversations.\n",
    "# Initially, SummaryMemory take more token and space more than other conversation.\n",
    "# However, as time passes and conversations accumulate, SummaryMemory can be helpful in anwsering.\n",
    "from langchain.memory import ConversationSummaryMemory\n",
    "from langchain.chat_models import ChatOpenAI\n",
    "\n",
    "llm = ChatOpenAI(temperature= 0.1)\n",
    "\n",
    "memory = ConversationSummaryMemory(llm=llm)\n",
    "#llm = llm means this code will be needs money\n",
    "\n",
    "def add_message(input, output):\n",
    "    memory.save_context({\"input\": input}, {\"output\": output})\n",
    "\n",
    "def get_histroy():\n",
    "    return memory.load_memory_variables({})\n",
    "\n",
    "add_message(\"Hi I'm Chandon, I live in South Korea\", \"Wow that is so nice!\")"
   ]
  },
  {
   "cell_type": "code",
   "execution_count": 20,
   "metadata": {},
   "outputs": [],
   "source": [
    "add_message(\"South Korea is so nice country!\", \"I want to travel South Korea!\")"
   ]
  },
  {
   "cell_type": "code",
   "execution_count": 21,
   "metadata": {},
   "outputs": [
    {
     "data": {
      "text/plain": [
       "{'history': 'Chandon from South Korea introduces themselves to the AI, who responds positively. The AI expresses a desire to travel to South Korea.'}"
      ]
     },
     "execution_count": 21,
     "metadata": {},
     "output_type": "execute_result"
    }
   ],
   "source": [
    "get_histroy()\n",
    "# This conclusion is a summary of the data I wrote down in memory."
   ]
  }
 ],
 "metadata": {
  "kernelspec": {
   "display_name": "env",
   "language": "python",
   "name": "python3"
  },
  "language_info": {
   "codemirror_mode": {
    "name": "ipython",
    "version": 3
   },
   "file_extension": ".py",
   "mimetype": "text/x-python",
   "name": "python",
   "nbconvert_exporter": "python",
   "pygments_lexer": "ipython3",
   "version": "3.11.6"
  }
 },
 "nbformat": 4,
 "nbformat_minor": 2
}
