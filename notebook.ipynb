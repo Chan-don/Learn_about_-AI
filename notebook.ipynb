{
 "cells": [
  {
   "cell_type": "code",
   "execution_count": 4,
   "metadata": {},
   "outputs": [
    {
     "data": {
      "text/plain": [
       "{'history': [HumanMessage(content='Hi!'),\n",
       "  AIMessage(content='Hi! How are you?')]}"
      ]
     },
     "execution_count": 4,
     "metadata": {},
     "output_type": "execute_result"
    }
   ],
   "source": [
    "# 'Conversation Buffer Memory'\n",
    "# We must use memory!\n",
    "# Why memory? Because, memory can store personal data.\n",
    "# Langchain model and model doesn't have memory. So, we must store data using memory.\n",
    "# Provides vivid conversation as if a person were speaking.\n",
    "# This memory is simple. But, this memory unsuitable big data.\n",
    "\n",
    "from langchain.memory import ConversationBufferMemory\n",
    "\n",
    "memory = ConversationBufferMemory(return_messages=True)\n",
    "\n",
    "memory.save_context({\"input\" : \"Hi!\"}, {\"output\" : \"Hi! How are you?\"})\n",
    "\n",
    "memory.load_memory_variables({})\n",
    "# '\\n' means change line."
   ]
  },
  {
   "cell_type": "code",
   "execution_count": 5,
   "metadata": {},
   "outputs": [
    {
     "data": {
      "text/plain": [
       "{'history': [HumanMessage(content='Hi!'),\n",
       "  AIMessage(content='Hi! How are you?'),\n",
       "  HumanMessage(content='Hi!'),\n",
       "  AIMessage(content='Hi! How are you?')]}"
      ]
     },
     "execution_count": 5,
     "metadata": {},
     "output_type": "execute_result"
    }
   ],
   "source": [
    "memory.save_context({\"input\" : \"Hi!\"}, {\"output\" : \"Hi! How are you?\"})\n",
    "\n",
    "memory.load_memory_variables({})\n",
    "# store"
   ]
  },
  {
   "cell_type": "code",
   "execution_count": 6,
   "metadata": {},
   "outputs": [
    {
     "data": {
      "text/plain": [
       "{'history': [HumanMessage(content='Hi!'),\n",
       "  AIMessage(content='Hi! How are you?'),\n",
       "  HumanMessage(content='Hi!'),\n",
       "  AIMessage(content='Hi! How are you?'),\n",
       "  HumanMessage(content='Hi!'),\n",
       "  AIMessage(content='Hi! How are you?')]}"
      ]
     },
     "execution_count": 6,
     "metadata": {},
     "output_type": "execute_result"
    }
   ],
   "source": [
    "memory.save_context({\"input\" : \"Hi!\"}, {\"output\" : \"Hi! How are you?\"})\n",
    "\n",
    "memory.load_memory_variables({})\n",
    "# store\n",
    "# So, this situation shows that data is being store in memory"
   ]
  }
 ],
 "metadata": {
  "kernelspec": {
   "display_name": "env",
   "language": "python",
   "name": "python3"
  },
  "language_info": {
   "codemirror_mode": {
    "name": "ipython",
    "version": 3
   },
   "file_extension": ".py",
   "mimetype": "text/x-python",
   "name": "python",
   "nbconvert_exporter": "python",
   "pygments_lexer": "ipython3",
   "version": "3.11.6"
  }
 },
 "nbformat": 4,
 "nbformat_minor": 2
}
