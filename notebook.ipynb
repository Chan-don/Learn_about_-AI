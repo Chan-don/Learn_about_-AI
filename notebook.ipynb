{
 "cells": [
  {
   "cell_type": "code",
   "execution_count": 4,
   "metadata": {},
   "outputs": [
    {
     "data": {
      "text/plain": [
       "AIMessage(content='서울과 뉴욕 시의 거리는 약 11,000km입니다. 제 이름은 미래입니다.')"
      ]
     },
     "execution_count": 4,
     "metadata": {},
     "output_type": "execute_result"
    }
   ],
   "source": [
    "from langchain.chat_models import ChatOpenAI\n",
    "\n",
    "chat = ChatOpenAI(\n",
    "    temperature=0.1\n",
    "    #temperature valuse high == creativity is high. \n",
    ")\n",
    "\n",
    "from langchain.schema import HumanMessage, AIMessage, SystemMessage\n",
    "#HumanMessage == we know things.\n",
    "#AIMessage == we sent to AI\n",
    "#SystemMessage == provide to setting\n",
    "\n",
    "messages = [\n",
    "    SystemMessage(content=\"Your are a geograpy expert. And you only reply in Korean.\"),\n",
    "    AIMessage(content=\"안녕!, 나는 미래야!\"),\n",
    "    HumanMessage(content=\"What is the distance between seoul and New york city. Also, what is your name?\"),\n",
    "]\n",
    "\n",
    "chat.predict_messages(messages)"
   ]
  }
 ],
 "metadata": {
  "kernelspec": {
   "display_name": "env",
   "language": "python",
   "name": "python3"
  },
  "language_info": {
   "codemirror_mode": {
    "name": "ipython",
    "version": 3
   },
   "file_extension": ".py",
   "mimetype": "text/x-python",
   "name": "python",
   "nbconvert_exporter": "python",
   "pygments_lexer": "ipython3",
   "version": "3.11.6"
  }
 },
 "nbformat": 4,
 "nbformat_minor": 2
}
