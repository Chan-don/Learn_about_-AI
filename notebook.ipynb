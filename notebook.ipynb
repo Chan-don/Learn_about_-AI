{
 "cells": [
  {
   "cell_type": "code",
   "execution_count": 18,
   "metadata": {},
   "outputs": [
    {
     "name": "stdout",
     "output_type": "stream",
     "text": [
      "\n",
      "\n",
      "\u001b[1m> Entering new LLMChain chain...\u001b[0m\n",
      "Prompt after formatting:\n",
      "\u001b[32;1m\u001b[1;3m\n",
      "    You are a helpful AI talking to human.\n",
      "\n",
      "    \n",
      "    Human: I'm chandon!\n",
      "\u001b[0m\n",
      "\n",
      "\u001b[1m> Finished chain.\u001b[0m\n"
     ]
    },
    {
     "data": {
      "text/plain": [
       "'AI: Hello Chandon! How can I assist you today?'"
      ]
     },
     "execution_count": 18,
     "metadata": {},
     "output_type": "execute_result"
    }
   ],
   "source": [
    "# Connect memory to the chain.\n",
    "# LLM chain == off-the-shelf chain.\n",
    "# The off-the-shelf chain refer to general purpose chain. And this chain is very distributed in langchain.\n",
    "# off-the-shelf chain is quick to use. However, that cannot customize it.\n",
    "\n",
    "from langchain.memory import ConversationSummaryBufferMemory\n",
    "from langchain.chat_models import ChatOpenAI\n",
    "from langchain.chains import LLMChain\n",
    "#Upper chain 'LLMChain' is off-the-shelf chain.\n",
    "from langchain.prompts import PromptTemplate\n",
    "\n",
    "llm = ChatOpenAI(\n",
    "    temperature=0.1\n",
    ")\n",
    "\n",
    "memory = ConversationSummaryBufferMemory(\n",
    "    llm=llm,\n",
    "    max_token_limit= 120,\n",
    "    memory_key=\"chat_history\"\n",
    "    # Insert the contents of the template into conversation Suammy memory.\n",
    "    # Insert \"chat_history\" into memory, LLMChain can now use the memory.\n",
    ")\n",
    "\n",
    "template = \"\"\"\n",
    "    You are a helpful AI talking to human.\n",
    "\n",
    "    {chat_history}\n",
    "    Human: {question}\n",
    "\"\"\"\n",
    "\n",
    "chain = LLMChain(\n",
    "    llm=llm,\n",
    "    memory=memory,\n",
    "    prompt=PromptTemplate.from_template(template),\n",
    "    verbose=True,\n",
    "    # This Upper code can show chain prompt log\n",
    ")\n",
    "\n",
    "chain.predict(question=\"I'm chandon!\")"
   ]
  },
  {
   "cell_type": "code",
   "execution_count": 19,
   "metadata": {},
   "outputs": [
    {
     "name": "stdout",
     "output_type": "stream",
     "text": [
      "\n",
      "\n",
      "\u001b[1m> Entering new LLMChain chain...\u001b[0m\n",
      "Prompt after formatting:\n",
      "\u001b[32;1m\u001b[1;3m\n",
      "    You are a helpful AI talking to human.\n",
      "\n",
      "    Human: I'm chandon!\n",
      "AI: AI: Hello Chandon! How can I assist you today?\n",
      "    Human: I live in yeosu!\n",
      "\u001b[0m\n",
      "\n",
      "\u001b[1m> Finished chain.\u001b[0m\n"
     ]
    },
    {
     "data": {
      "text/plain": [
       "\"AI: That's great to hear! Yeosu is a beautiful city in South Korea. Is there anything specific you would like assistance with regarding Yeosu or anything else?\""
      ]
     },
     "execution_count": 19,
     "metadata": {},
     "output_type": "execute_result"
    }
   ],
   "source": [
    "chain.predict(question=\"I live in yeosu!\")\n",
    "# We find new option. Human!\n",
    "# This is chat_history memory!!\n",
    "# Now, LLMchat model can remember our chat."
   ]
  },
  {
   "cell_type": "code",
   "execution_count": 20,
   "metadata": {},
   "outputs": [
    {
     "name": "stdout",
     "output_type": "stream",
     "text": [
      "\n",
      "\n",
      "\u001b[1m> Entering new LLMChain chain...\u001b[0m\n",
      "Prompt after formatting:\n",
      "\u001b[32;1m\u001b[1;3m\n",
      "    You are a helpful AI talking to human.\n",
      "\n",
      "    Human: I'm chandon!\n",
      "AI: AI: Hello Chandon! How can I assist you today?\n",
      "Human: I live in yeosu!\n",
      "AI: AI: That's great to hear! Yeosu is a beautiful city in South Korea. Is there anything specific you would like assistance with regarding Yeosu or anything else?\n",
      "    Human: what is my name?\n",
      "\u001b[0m\n",
      "\n",
      "\u001b[1m> Finished chain.\u001b[0m\n"
     ]
    },
    {
     "data": {
      "text/plain": [
       "'AI: Your name is Chandon.'"
      ]
     },
     "execution_count": 20,
     "metadata": {},
     "output_type": "execute_result"
    }
   ],
   "source": [
    "chain.predict(question = \"what is my name?\")\n",
    "# Now, we can find 'Human : I'm chandon!'\n",
    "# This is chat_history. So, Now LLMChat model remember my name!"
   ]
  },
  {
   "cell_type": "code",
   "execution_count": 21,
   "metadata": {},
   "outputs": [
    {
     "data": {
      "text/plain": [
       "{'chat_history': \"Human: I'm chandon!\\nAI: AI: Hello Chandon! How can I assist you today?\\nHuman: I live in yeosu!\\nAI: AI: That's great to hear! Yeosu is a beautiful city in South Korea. Is there anything specific you would like assistance with regarding Yeosu or anything else?\\nHuman: what is my name?\\nAI: AI: Your name is Chandon.\"}"
      ]
     },
     "execution_count": 21,
     "metadata": {},
     "output_type": "execute_result"
    }
   ],
   "source": [
    "memory.load_memory_variables({})\n",
    "# Upper Code is Summary my chat memory."
   ]
  }
 ],
 "metadata": {
  "kernelspec": {
   "display_name": "env",
   "language": "python",
   "name": "python3"
  },
  "language_info": {
   "codemirror_mode": {
    "name": "ipython",
    "version": 3
   },
   "file_extension": ".py",
   "mimetype": "text/x-python",
   "name": "python",
   "nbconvert_exporter": "python",
   "pygments_lexer": "ipython3",
   "version": "3.11.6"
  }
 },
 "nbformat": 4,
 "nbformat_minor": 2
}
