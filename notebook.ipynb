{
 "cells": [
  {
   "cell_type": "code",
   "execution_count": 13,
   "metadata": {},
   "outputs": [
    {
     "data": {
      "text/plain": [
       "'Human: Korea\\nAI: \\n        I know this:\\n        Capital: Seoul\\n        Language: Korean\\n        Food: Kimki and bulgogi\\n        Currency: Won\\n        \\n\\nHuman: What do you know about Brazil?'"
      ]
     },
     "execution_count": 13,
     "metadata": {},
     "output_type": "execute_result"
    }
   ],
   "source": [
    "from langchain.chat_models import ChatOpenAI\n",
    "from langchain.prompts.few_shot import FewShotPromptTemplate\n",
    "#FewShotPromptTemplate provieds specific prompt templates. Like, Just Capital letter or Just small letter, space, comma, etc..\n",
    "from langchain.callbacks import StreamingStdOutCallbackHandler\n",
    "#callbacks is the live streaming the chat answer while run code\n",
    "from langchain.prompts import PromptTemplate\n",
    "from langchain.prompts.example_selector.base import BaseExampleSelector\n",
    "\n",
    "chat = ChatOpenAI(\n",
    "    temperature=0.1, streaming=True, callbacks=[StreamingStdOutCallbackHandler(),],\n",
    "    #temperature valuse high == creativity is high.\n",
    "    #streaming is live streaming. so, streaming = True means run streaming.\n",
    "    # and callbacks code is to combine the streaming code\n",
    ")\n",
    "\n",
    "examples = [\n",
    "    {\n",
    "        \"country\" : \"France\",\n",
    "        \"answer\" : \"\"\"\n",
    "        Here is what I know:\n",
    "        Capital: Paris\n",
    "        Language: French\n",
    "        Food: wine and Cheese\n",
    "        Currency: Euro\n",
    "        \"\"\",\n",
    "    },\n",
    "    {\n",
    "        \"country\" : \"Italy\",\n",
    "        \"answer\" : \"\"\"\n",
    "        I know this:\n",
    "        Capital: Rome\n",
    "        Language: Italian\n",
    "        Food: pizza and pasta\n",
    "        Currency: Euro\n",
    "        \"\"\",\n",
    "    },\n",
    "    {\n",
    "        \"country\" : \"Korea\",\n",
    "        \"answer\" : \"\"\"\n",
    "        I know this:\n",
    "        Capital: Seoul\n",
    "        Language: Korean\n",
    "        Food: Kimki and bulgogi\n",
    "        Currency: Won\n",
    "        \"\"\",\n",
    "    },\n",
    "]\n",
    "\n",
    "class RandomExampleSelector(BaseExampleSelector):\n",
    "    def __init__(self, examples):\n",
    "        self.examples = examples\n",
    "\n",
    "    def add_example(self, example):\n",
    "        self.examples.append(example)\n",
    "\n",
    "    def select_examples(self, input_varialbes):\n",
    "        from random import choice\n",
    "\n",
    "        return [choice(self.examples)]\n",
    "    # Upper Code is get random Examples at 'Example Template'\n",
    "\n",
    "\n",
    "example_prompt = PromptTemplate.from_template(\"Human: {country}\\nAI: {answer}\")\n",
    "\n",
    "example_selector= RandomExampleSelector(\n",
    "    examples=examples,\n",
    ")\n",
    "\n",
    "prompt = FewShotPromptTemplate(\n",
    "    example_prompt= example_prompt,\n",
    "    example_selector=example_selector,\n",
    "    suffix=\"Human: What do you know about {country}?\",\n",
    "    input_variables=[\"country\"],\n",
    ")\n",
    "\n",
    "prompt.format(country = \"Brazil\")\n"
   ]
  }
 ],
 "metadata": {
  "kernelspec": {
   "display_name": "env",
   "language": "python",
   "name": "python3"
  },
  "language_info": {
   "codemirror_mode": {
    "name": "ipython",
    "version": 3
   },
   "file_extension": ".py",
   "mimetype": "text/x-python",
   "name": "python",
   "nbconvert_exporter": "python",
   "pygments_lexer": "ipython3",
   "version": "3.11.6"
  }
 },
 "nbformat": 4,
 "nbformat_minor": 2
}
