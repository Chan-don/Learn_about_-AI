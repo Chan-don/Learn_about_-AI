{
 "cells": [
  {
   "cell_type": "code",
   "execution_count": 1,
   "metadata": {},
   "outputs": [
    {
     "data": {
      "text/plain": [
       "'What is the capital of Germany'"
      ]
     },
     "execution_count": 1,
     "metadata": {},
     "output_type": "execute_result"
    }
   ],
   "source": [
    "from langchain.chat_models import ChatOpenAI\n",
    "#FewShotPromptTemplate provieds specific prompt templates. Like, Just Capital letter or Just small letter, space, comma, etc..\n",
    "from langchain.callbacks import StreamingStdOutCallbackHandler\n",
    "#callbacks is the live streaming the chat answer while run code\n",
    "from langchain.prompts import load_prompt\n",
    "#load prompt at the prompt.json or prompt.yaml\n",
    "\n",
    "#prompt = load_prompt(\"./prompt.json\")\n",
    "# Upper code is Get prompt at the \"prompt.json\"\n",
    "\n",
    "prompt = load_prompt(\"./prompt.yaml\")\n",
    "# Upper code is Get prompt at the \"prompt.yaml\"\n",
    "# What is different at the json and yaml?\n",
    "# yaml is easier to use then json.\n",
    "\n",
    "chat = ChatOpenAI(\n",
    "    temperature=0.1, streaming=True, callbacks=[StreamingStdOutCallbackHandler(),],\n",
    "    #temperature valuse high == creativity is high.\n",
    "    #streaming is live streaming. so, streaming = True means run streaming.\n",
    "    # and callbacks code is to combine the streaming code\n",
    ")\n",
    "\n",
    "prompt.format(country = \"xxx\")"
   ]
  }
 ],
 "metadata": {
  "kernelspec": {
   "display_name": "env",
   "language": "python",
   "name": "python3"
  },
  "language_info": {
   "codemirror_mode": {
    "name": "ipython",
    "version": 3
   },
   "file_extension": ".py",
   "mimetype": "text/x-python",
   "name": "python",
   "nbconvert_exporter": "python",
   "pygments_lexer": "ipython3",
   "version": "3.11.6"
  }
 },
 "nbformat": 4,
 "nbformat_minor": 2
}
