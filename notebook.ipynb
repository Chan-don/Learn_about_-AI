{
 "cells": [
  {
   "cell_type": "code",
   "execution_count": 22,
   "metadata": {},
   "outputs": [
    {
     "name": "stdout",
     "output_type": "stream",
     "text": [
      "\n",
      "\n",
      "\u001b[1m> Entering new LLMChain chain...\u001b[0m\n",
      "Prompt after formatting:\n",
      "\u001b[32;1m\u001b[1;3mSystem: You are a helpful AI talking to a human\n",
      "Human: I'm chandon!\u001b[0m\n",
      "\n",
      "\u001b[1m> Finished chain.\u001b[0m\n"
     ]
    },
    {
     "data": {
      "text/plain": [
       "'Hello Chandon! How can I assist you today?'"
      ]
     },
     "execution_count": 22,
     "metadata": {},
     "output_type": "execute_result"
    }
   ],
   "source": [
    "# Connect memory to the chain.\n",
    "# LLM chain == off-the-shelf chain.\n",
    "# The off-the-shelf chain refer to general purpose chain. And this chain is very distributed in langchain.\n",
    "# off-the-shelf chain is quick to use. However, that cannot customize it.\n",
    "\n",
    "from langchain.memory import ConversationSummaryBufferMemory\n",
    "from langchain.chat_models import ChatOpenAI\n",
    "from langchain.chains import LLMChain\n",
    "#Upper chain 'LLMChain' is off-the-shelf chain.\n",
    "from langchain.prompts import ChatPromptTemplate, MessagesPlaceholder\n",
    "# last time we just write prompt text. So, This time we send message 'text' at Chat\n",
    "# 'MessagesPlaceholder' is show organize messages. Like, AI : ~~~~, Human : ~~~~.\n",
    "\n",
    "llm = ChatOpenAI(\n",
    "    temperature=0.1\n",
    ")\n",
    "\n",
    "memory = ConversationSummaryBufferMemory(\n",
    "    llm=llm,\n",
    "    max_token_limit= 120,\n",
    "    memory_key=\"chat_history\",\n",
    "    # Insert the contents of the template into conversation Suammy memory.\n",
    "    # Insert \"chat_history\" into memory, LLMChain can now use the memory.\n",
    "    return_messages=True,\n",
    "    # Upper code mean do not change 'string'. Just use 'text'\n",
    ")\n",
    "\n",
    "prompt = ChatPromptTemplate.from_messages([\n",
    "    (\"system\", \"You are a helpful AI talking to a human\"),\n",
    "    MessagesPlaceholder(variable_name=\"chat_history\"),\n",
    "    # 'ConversationSummaryBufferMemory' give message -> 'AI' -> 'Human' -> 'System'\n",
    "    # The MessagesPlaceholder intercept message and make many class.\n",
    "    (\"human\", \"{question}\"),\n",
    "])\n",
    "\n",
    "chain = LLMChain(\n",
    "    llm=llm,\n",
    "    memory=memory,\n",
    "    prompt=prompt,\n",
    "    verbose=True,\n",
    "    # This Upper code can show chain prompt log\n",
    ")\n",
    "\n",
    "chain.predict(question=\"I'm chandon!\")"
   ]
  },
  {
   "cell_type": "code",
   "execution_count": 23,
   "metadata": {},
   "outputs": [
    {
     "name": "stdout",
     "output_type": "stream",
     "text": [
      "\n",
      "\n",
      "\u001b[1m> Entering new LLMChain chain...\u001b[0m\n",
      "Prompt after formatting:\n",
      "\u001b[32;1m\u001b[1;3mSystem: You are a helpful AI talking to a human\n",
      "Human: I'm chandon!\n",
      "AI: Hello Chandon! How can I assist you today?\n",
      "Human: I live in yeosu!\u001b[0m\n",
      "\n",
      "\u001b[1m> Finished chain.\u001b[0m\n"
     ]
    },
    {
     "data": {
      "text/plain": [
       "\"That's great to know! Yeosu is a beautiful coastal city in South Korea known for its scenic views and maritime attractions. Is there anything specific you'd like to know or talk about regarding Yeosu?\""
      ]
     },
     "execution_count": 23,
     "metadata": {},
     "output_type": "execute_result"
    }
   ],
   "source": [
    "chain.predict(question=\"I live in yeosu!\")\n",
    "# Now, we can show System, Human, AI.\n",
    "# This is MessagesPlaceholder power.\n",
    "# That code makes the prompt look neat!"
   ]
  },
  {
   "cell_type": "code",
   "execution_count": 24,
   "metadata": {},
   "outputs": [
    {
     "name": "stdout",
     "output_type": "stream",
     "text": [
      "\n",
      "\n",
      "\u001b[1m> Entering new LLMChain chain...\u001b[0m\n",
      "Prompt after formatting:\n",
      "\u001b[32;1m\u001b[1;3mSystem: You are a helpful AI talking to a human\n",
      "Human: I'm chandon!\n",
      "AI: Hello Chandon! How can I assist you today?\n",
      "Human: I live in yeosu!\n",
      "AI: That's great to know! Yeosu is a beautiful coastal city in South Korea known for its scenic views and maritime attractions. Is there anything specific you'd like to know or talk about regarding Yeosu?\n",
      "Human: what is my name?\u001b[0m\n",
      "\n",
      "\u001b[1m> Finished chain.\u001b[0m\n"
     ]
    },
    {
     "data": {
      "text/plain": [
       "'Your name is Chandon. How can I assist you further, Chandon?'"
      ]
     },
     "execution_count": 24,
     "metadata": {},
     "output_type": "execute_result"
    }
   ],
   "source": [
    "chain.predict(question = \"what is my name?\")\n",
    "# Now, we can find 'Human : I'm chandon!'\n",
    "# This is chat_history. So, Now LLMChat model remember my name!"
   ]
  },
  {
   "cell_type": "code",
   "execution_count": 25,
   "metadata": {},
   "outputs": [
    {
     "data": {
      "text/plain": [
       "{'chat_history': [HumanMessage(content=\"I'm chandon!\"),\n",
       "  AIMessage(content='Hello Chandon! How can I assist you today?'),\n",
       "  HumanMessage(content='I live in yeosu!'),\n",
       "  AIMessage(content=\"That's great to know! Yeosu is a beautiful coastal city in South Korea known for its scenic views and maritime attractions. Is there anything specific you'd like to know or talk about regarding Yeosu?\"),\n",
       "  HumanMessage(content='what is my name?'),\n",
       "  AIMessage(content='Your name is Chandon. How can I assist you further, Chandon?')]}"
      ]
     },
     "execution_count": 25,
     "metadata": {},
     "output_type": "execute_result"
    }
   ],
   "source": [
    "memory.load_memory_variables({})\n",
    "# Upper Code is Summary my chat memory."
   ]
  }
 ],
 "metadata": {
  "kernelspec": {
   "display_name": "env",
   "language": "python",
   "name": "python3"
  },
  "language_info": {
   "codemirror_mode": {
    "name": "ipython",
    "version": 3
   },
   "file_extension": ".py",
   "mimetype": "text/x-python",
   "name": "python",
   "nbconvert_exporter": "python",
   "pygments_lexer": "ipython3",
   "version": "3.11.6"
  }
 },
 "nbformat": 4,
 "nbformat_minor": 2
}
