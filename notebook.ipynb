{
 "cells": [
  {
   "cell_type": "code",
   "execution_count": 3,
   "metadata": {},
   "outputs": [
    {
     "name": "stdout",
     "output_type": "stream",
     "text": [
      "Ingredients:\n",
      "- 1 cup of rice\n",
      "- 1 cup of water\n",
      "- 1 tablespoon of nuruk (fermentation starter)\n",
      "- 1 tablespoon of yeast\n",
      "\n",
      "Instructions:\n",
      "1. Rinse the rice thoroughly and soak it in water for at least 4 hours.\n",
      "2. Drain the rice and steam it until it is fully cooked.\n",
      "3. Let the rice cool down to room temperature.\n",
      "4. In a large bowl, mix the nuruk and yeast with the water until well combined.\n",
      "5. Add the cooked rice to the mixture and mix well.\n",
      "6. Cover the bowl with a clean cloth and let it ferment in a warm place for 3-4 days.\n",
      "7. After fermentation, strain the mixture through a cheesecloth to remove any solids.\n",
      "8. Transfer the liquid to a clean container and let it sit for another 2-3 days to allow the flavors to develop.\n",
      "9. Your homemade soju is now ready to be enjoyed! Serve chilled and enjoy responsibly. Beer is typically made using the following ingredients and steps:\n",
      "\n",
      "Ingredients:\n",
      "- Water\n",
      "- Barley malt\n",
      "- Hops\n",
      "- Yeast\n",
      "\n",
      "Steps:\n",
      "1. Malting: Barley grains are soaked in water and allowed to germinate, then dried in a kiln to stop the germination process. This creates malted barley, which is then milled into a coarse powder called grist.\n",
      "2. Mashing: The grist is mixed with hot water in a large vessel called a mash tun. This mixture is heated to specific temperatures to activate enzymes that convert the starches in the barley into fermentable sugars.\n",
      "3. Lautering: The liquid portion of the mash, called wort, is separated from the solid grains in a process called lautering. The wort is then transferred to a kettle for boiling.\n",
      "4. Boiling: The wort is boiled and hops are added at different times during the boil to impart bitterness, flavor, and aroma to the beer.\n",
      "5. Cooling: After boiling, the wort is cooled rapidly to a temperature suitable for fermentation.\n",
      "6. Fermentation: The cooled wort is transferred to a fermentation vessel and yeast is added. The yeast consumes the sugars in the wort, producing alcohol and carbon dioxide as byproducts.\n",
      "7. Conditioning: After fermentation is complete, the beer is conditioned for a period of time to allow flavors to develop and mature.\n",
      "8. Packaging: The beer is then filtered, carbonated, and packaged in bottles, cans, or kegs for distribution and consumption.\n",
      "\n",
      "Please note that there are many variations in the brewing process and different styles of beer may require additional ingredients or steps. It is also important to follow proper sanitation practices throughout the brewing process to prevent contamination and ensure a quality final product. \n",
      "\n",
      "Tokens Used: 588\n",
      "\tPrompt Tokens: 27\n",
      "\tCompletion Tokens: 561\n",
      "Successful Requests: 2\n",
      "Total Cost (USD): $0.0011625\n"
     ]
    }
   ],
   "source": [
    "from langchain.chat_models import ChatOpenAI\n",
    "from langchain.callbacks import get_openai_callback\n",
    "\n",
    "chat = ChatOpenAI(\n",
    "    temperature=0.1,\n",
    ")\n",
    "\n",
    "with get_openai_callback() as usage:\n",
    "    a = chat.predict(\"what is the recipe for soju\")\n",
    "    b = chat.predict(\"what is the recipe for beer\")\n",
    "    print(a, b, \"\\n\")\n",
    "    print(usage)\n",
    "# if you want to show prise to use.\n",
    "# You must use. 'with' 'get_openai_callback()' 'as' usage:\n",
    "    # ~~\n",
    "    # print(usage)\n",
    "# You must use this! for show prise"
   ]
  }
 ],
 "metadata": {
  "kernelspec": {
   "display_name": "env",
   "language": "python",
   "name": "python3"
  },
  "language_info": {
   "codemirror_mode": {
    "name": "ipython",
    "version": 3
   },
   "file_extension": ".py",
   "mimetype": "text/x-python",
   "name": "python",
   "nbconvert_exporter": "python",
   "pygments_lexer": "ipython3",
   "version": "3.11.6"
  }
 },
 "nbformat": 4,
 "nbformat_minor": 2
}
