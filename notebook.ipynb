{
 "cells": [
  {
   "cell_type": "code",
   "execution_count": 5,
   "metadata": {},
   "outputs": [],
   "source": [
    "# This time, use SummaryMemory by specifying a limit token. \n",
    "from langchain.memory import ConversationSummaryBufferMemory\n",
    "from langchain.chat_models import ChatOpenAI\n",
    "\n",
    "llm = ChatOpenAI(temperature=0.1)\n",
    "\n",
    "memory = ConversationSummaryBufferMemory(\n",
    "    llm=llm,\n",
    "    max_token_limit=150,\n",
    "    # Upper code 'max_token_limit' means limit message.\n",
    "    return_messages=True\n",
    ")\n",
    "\n",
    "def add_message(input, output):\n",
    "    memory.save_context({\"input\" : input}, {\"output\" : output})\n",
    "\n",
    "def get_history():\n",
    "    return memory.load_memory_variables({})\n",
    "\n",
    "add_message(\"Hi I'm donchan. I live in South Korea\", \"Wow that is so nice!\")"
   ]
  },
  {
   "cell_type": "code",
   "execution_count": 6,
   "metadata": {},
   "outputs": [
    {
     "data": {
      "text/plain": [
       "{'history': [HumanMessage(content=\"Hi I'm donchan. I live in South Korea\"),\n",
       "  AIMessage(content='Wow that is so nice!')]}"
      ]
     },
     "execution_count": 6,
     "metadata": {},
     "output_type": "execute_result"
    }
   ],
   "source": [
    "get_history()"
   ]
  },
  {
   "cell_type": "code",
   "execution_count": 7,
   "metadata": {},
   "outputs": [],
   "source": [
    "add_message(\"South korea is pretty!\", \"I want to visit Seoul!\")"
   ]
  },
  {
   "cell_type": "code",
   "execution_count": 8,
   "metadata": {},
   "outputs": [
    {
     "data": {
      "text/plain": [
       "{'history': [HumanMessage(content=\"Hi I'm donchan. I live in South Korea\"),\n",
       "  AIMessage(content='Wow that is so nice!'),\n",
       "  HumanMessage(content='South korea is pretty!'),\n",
       "  AIMessage(content='I want to visit Seoul!')]}"
      ]
     },
     "execution_count": 8,
     "metadata": {},
     "output_type": "execute_result"
    }
   ],
   "source": [
    "get_history()\n",
    "#Not reach limit yet."
   ]
  },
  {
   "cell_type": "code",
   "execution_count": 9,
   "metadata": {},
   "outputs": [],
   "source": [
    "add_message(\"How far Seoul from Salt lake city?!\", \"I don't know! But, that is too far!!!\")"
   ]
  },
  {
   "cell_type": "code",
   "execution_count": 10,
   "metadata": {},
   "outputs": [
    {
     "data": {
      "text/plain": [
       "{'history': [HumanMessage(content=\"Hi I'm donchan. I live in South Korea\"),\n",
       "  AIMessage(content='Wow that is so nice!'),\n",
       "  HumanMessage(content='South korea is pretty!'),\n",
       "  AIMessage(content='I want to visit Seoul!'),\n",
       "  HumanMessage(content='How far Seoul from Salt lake city?!'),\n",
       "  AIMessage(content=\"I don't know! But, that is too far!!!\")]}"
      ]
     },
     "execution_count": 10,
     "metadata": {},
     "output_type": "execute_result"
    }
   ],
   "source": [
    "get_history()\n",
    "#Not reach limit yet."
   ]
  },
  {
   "cell_type": "code",
   "execution_count": 15,
   "metadata": {},
   "outputs": [],
   "source": [
    "add_message(\"How many people live Seoul and Salt Lake City?\", \"I don't know! But, many people are live Seoul and Salt Lake City!\")\n",
    "# Push multiple times until the limit token is reached"
   ]
  },
  {
   "cell_type": "code",
   "execution_count": 16,
   "metadata": {},
   "outputs": [
    {
     "data": {
      "text/plain": [
       "{'history': [SystemMessage(content='The human introduces themselves as donchan and mentions they live in South Korea. The AI expresses admiration for South Korea and mentions wanting to visit Seoul. The human asks how far Seoul is from Salt Lake City, to which the AI responds that it is too far. The human then asks about the populations of Seoul and Salt Lake City.'),\n",
       "  AIMessage(content=\"I don't know! But, many people are live Seoul and Salt Lake City!\"),\n",
       "  HumanMessage(content='How many people live Seoul and Salt Lake City?'),\n",
       "  AIMessage(content=\"I don't know! But, many people are live Seoul and Salt Lake City!\"),\n",
       "  HumanMessage(content='How many people live Seoul and Salt Lake City?'),\n",
       "  AIMessage(content=\"I don't know! But, many people are live Seoul and Salt Lake City!\"),\n",
       "  HumanMessage(content='How many people live Seoul and Salt Lake City?'),\n",
       "  AIMessage(content=\"I don't know! But, many people are live Seoul and Salt Lake City!\")]}"
      ]
     },
     "execution_count": 16,
     "metadata": {},
     "output_type": "execute_result"
    }
   ],
   "source": [
    "get_history()\n",
    "# Reach limit token!\n",
    "# When consuming tokens up tp the limit tokens.\n",
    "# Old data is summarized."
   ]
  }
 ],
 "metadata": {
  "kernelspec": {
   "display_name": "env",
   "language": "python",
   "name": "python3"
  },
  "language_info": {
   "codemirror_mode": {
    "name": "ipython",
    "version": 3
   },
   "file_extension": ".py",
   "mimetype": "text/x-python",
   "name": "python",
   "nbconvert_exporter": "python",
   "pygments_lexer": "ipython3",
   "version": "3.11.6"
  }
 },
 "nbformat": 4,
 "nbformat_minor": 2
}
