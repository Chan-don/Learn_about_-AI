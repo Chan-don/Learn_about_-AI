{
 "cells": [
  {
   "cell_type": "code",
   "execution_count": 5,
   "metadata": {},
   "outputs": [
    {
     "name": "stdout",
     "output_type": "stream",
     "text": [
      "AI:\n",
      "        Here is what I know :\n",
      "        Capital: Washington D.C.\n",
      "        Language: English\n",
      "        Food: Burgers, hot dogs, and apple pie\n",
      "        Currency: US Dollar"
     ]
    },
    {
     "data": {
      "text/plain": [
       "AIMessageChunk(content='AI:\\n        Here is what I know :\\n        Capital: Washington D.C.\\n        Language: English\\n        Food: Burgers, hot dogs, and apple pie\\n        Currency: US Dollar')"
      ]
     },
     "execution_count": 5,
     "metadata": {},
     "output_type": "execute_result"
    }
   ],
   "source": [
    "from langchain.chat_models import ChatOpenAI\n",
    "from langchain.prompts import PromptTemplate\n",
    "from langchain.prompts.few_shot import FewShotPromptTemplate\n",
    "#FewShotPromptTemplate provieds specific prompt templates. Like, Just Capital letter or Just small letter, space, comma, etc..\n",
    "from langchain.callbacks import StreamingStdOutCallbackHandler\n",
    "#callbacks is the live streaming the chat answer while run code\n",
    "\n",
    "chat = ChatOpenAI(\n",
    "    temperature=0.1, streaming=True, callbacks=[StreamingStdOutCallbackHandler(),],\n",
    "    #temperature valuse high == creativity is high.\n",
    "    #streaming is live streaming. so, streaming = True means run streaming.\n",
    "    # and callbacks code is to combine the streaming code\n",
    ")\n",
    "\n",
    "examples = [\n",
    "    {\n",
    "        \"question\" : \"What do you know about France?\",\n",
    "        \"answer\" : \"\"\"\n",
    "        Here is what I know :\n",
    "        Capital: Paris\n",
    "        Language: French\n",
    "        Food: wine and Cheese\n",
    "        Currency: Euro\n",
    "        \"\"\",\n",
    "    },\n",
    "    {\n",
    "        \"question\" : \"What do you know about Italy?\",\n",
    "        \"answer\" : \"\"\"\n",
    "        Here is what I know :\n",
    "        Capital: Rome\n",
    "        Language: Italian\n",
    "        Food: pizza and pasta\n",
    "        Currency: Euro\n",
    "        \"\"\",\n",
    "    },\n",
    "    {\n",
    "        \"question\" : \"What do you know about Korea?\",\n",
    "        \"answer\" : \"\"\"\n",
    "        Here is what I know :\n",
    "        Capital: Seoul\n",
    "        Language: Korean\n",
    "        Food: Kimki and bulgogi\n",
    "        Currency: Won\n",
    "        \"\"\",\n",
    "    },\n",
    "]\n",
    "\n",
    "# chat.predict(\"What do you know about Korea\")\n",
    "#Upper code is not use the FewShotPromptTemplate\n",
    "\n",
    "example_prompt = PromptTemplate.from_template(\"Human: {question}\\nAI:{answer}\")\n",
    "prompt = FewShotPromptTemplate(\n",
    "    example_prompt= example_prompt,\n",
    "    examples=examples,\n",
    "    suffix=\"Human: What do you know about {country}?\",\n",
    "    input_variables={\"country\"}\n",
    ")\n",
    "\n",
    "# prompt.format(country=\"Germany\")\n",
    "#Upper code is use FewShotPromptTemplate. And see a prompt that AI will see.\n",
    "#So, FewShotPromptTemplate is Form. It determines the format in which AI will speak.\n",
    "\n",
    "chain = prompt | chat\n",
    "\n",
    "chain.invoke({\n",
    "    \"country\": \"United States America\"\n",
    "})\n",
    "#Upper code is Run prompt according to 'chat'\n"
   ]
  }
 ],
 "metadata": {
  "kernelspec": {
   "display_name": "env",
   "language": "python",
   "name": "python3"
  },
  "language_info": {
   "codemirror_mode": {
    "name": "ipython",
    "version": 3
   },
   "file_extension": ".py",
   "mimetype": "text/x-python",
   "name": "python",
   "nbconvert_exporter": "python",
   "pygments_lexer": "ipython3",
   "version": "3.11.6"
  }
 },
 "nbformat": 4,
 "nbformat_minor": 2
}
