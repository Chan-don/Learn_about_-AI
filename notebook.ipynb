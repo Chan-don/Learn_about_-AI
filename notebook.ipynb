{
 "cells": [
  {
   "cell_type": "code",
   "execution_count": 36,
   "metadata": {},
   "outputs": [],
   "source": [
    "from langchain.chat_models import ChatOpenAI\n",
    "from langchain.prompts import ChatPromptTemplate\n",
    "from langchain.callbacks import StreamingStdOutCallbackHandler\n",
    "#callbacks is the live streaming the chat answer while run code\n",
    "\n",
    "chat = ChatOpenAI(\n",
    "    temperature=0.1, streaming=True, callbacks=[StreamingStdOutCallbackHandler()]\n",
    "    #temperature valuse high == creativity is high.\n",
    "    #streaming is live streaming. so, streaming = True means run streaming.\n",
    "    # and callbacks code is to combine the streaming code\n",
    ")\n",
    "\n",
    "sportsCar_prompt = sports_car_template = ChatPromptTemplate.from_messages([\n",
    "    (\"system\", \"You are a best car dealer. You create recommend which sports car is best to me.\"),\n",
    "    (\"human\", \"I want to {car_type} car.\"),\n",
    "])\n",
    "\n",
    "sports_car_chain = sportsCar_prompt | chat "
   ]
  },
  {
   "cell_type": "code",
   "execution_count": 38,
   "metadata": {},
   "outputs": [
    {
     "name": "stdout",
     "output_type": "stream",
     "text": [
      "For a convertible sports car, I would recommend the Porsche 911 Carrera S Cabriolet. It offers a perfect blend of performance, luxury, and style. The 911 Carrera S Cabriolet features a powerful engine, precise handling, and a sleek design that is sure to turn heads. Additionally, Porsche is known for its high-quality craftsmanship and attention to detail, making it a top choice for convertible sports car enthusiasts.I have a great recommendation for you! The convertible sports car I suggest is the Porsche 911 Carrera S Cabriolet. It's a fantastic choice that offers a perfect blend of performance, luxury, and style. Porsche is known for its high-quality craftsmanship and attention to detail, making it a top choice for convertible sports car enthusiasts."
     ]
    },
    {
     "data": {
      "text/plain": [
       "AIMessageChunk(content=\"I have a great recommendation for you! The convertible sports car I suggest is the Porsche 911 Carrera S Cabriolet. It's a fantastic choice that offers a perfect blend of performance, luxury, and style. Porsche is known for its high-quality craftsmanship and attention to detail, making it a top choice for convertible sports car enthusiasts.\")"
      ]
     },
     "execution_count": 38,
     "metadata": {},
     "output_type": "execute_result"
    }
   ],
   "source": [
    "bestSportsCar_prompt = ChatPromptTemplate.from_messages([\n",
    "    (\"system\", \"You work at a used sports car dealership. So, we have a vehicle that we can recommend to our customers. However, customers don't need detailed information about the car, they just want to know the make and model of the car. You need to sort them into categories and show them to your guests. You should also tell the customer if there is a type of car they want.\"),\n",
    "    (\"human\", \"{car}\"),\n",
    "])\n",
    "\n",
    "best_sports_car_chain = bestSportsCar_prompt | chat\n",
    "\n",
    "final_chain = {\"car\" : sports_car_chain} | best_sports_car_chain\n",
    "\n",
    "final_chain.invoke({\n",
    "    \"car_type\": \"convertible\",\n",
    "})"
   ]
  }
 ],
 "metadata": {
  "kernelspec": {
   "display_name": "env",
   "language": "python",
   "name": "python3"
  },
  "language_info": {
   "codemirror_mode": {
    "name": "ipython",
    "version": 3
   },
   "file_extension": ".py",
   "mimetype": "text/x-python",
   "name": "python",
   "nbconvert_exporter": "python",
   "pygments_lexer": "ipython3",
   "version": "3.11.6"
  }
 },
 "nbformat": 4,
 "nbformat_minor": 2
}
