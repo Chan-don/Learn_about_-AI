{
 "cells": [
  {
   "cell_type": "code",
   "execution_count": 3,
   "metadata": {},
   "outputs": [
    {
     "data": {
      "text/plain": [
       "AIMessage(content='Hello Chandon! How can I assist you today?')"
      ]
     },
     "execution_count": 3,
     "metadata": {},
     "output_type": "execute_result"
    }
   ],
   "source": [
    "# Connect memory to the chain.\n",
    "# LLM chain == off-the-shelf chain.\n",
    "# The off-the-shelf chain refer to general purpose chain. And this chain is very distributed in langchain.\n",
    "# off-the-shelf chain is quick to use. However, that cannot customize it.\n",
    "\n",
    "from langchain.memory import ConversationSummaryBufferMemory\n",
    "from langchain.chat_models import ChatOpenAI\n",
    "from langchain.schema.runnable import RunnablePassthrough\n",
    "# Upper Code is make llm model more specific.\n",
    "from langchain.prompts import ChatPromptTemplate, MessagesPlaceholder\n",
    "# last time we just write prompt text. So, This time we send message 'text' at Chat\n",
    "# 'MessagesPlaceholder' is show organize messages. Like, AI : ~~~~, Human : ~~~~.\n",
    "\n",
    "llm = ChatOpenAI(\n",
    "    temperature=0.1\n",
    ")\n",
    "\n",
    "memory = ConversationSummaryBufferMemory(\n",
    "    llm=llm,\n",
    "    max_token_limit= 120,\n",
    "    memory_key=\"chat_history\",\n",
    "    # Insert the contents of the template into conversation Suammy memory.\n",
    "    # Insert \"chat_history\" into memory, LLMChain can now use the memory.\n",
    "    return_messages=True,\n",
    "    # Upper code mean do not change 'string'. Just use 'text'\n",
    ")\n",
    "\n",
    "prompt = ChatPromptTemplate.from_messages([\n",
    "    (\"system\", \"You are a helpful AI talking to a human\"),\n",
    "    MessagesPlaceholder(variable_name=\"chat_history\"),\n",
    "    # 'ConversationSummaryBufferMemory' give message -> 'AI' -> 'Human' -> 'System'\n",
    "    # The MessagesPlaceholder intercept message and make many class.\n",
    "    (\"human\", \"{question}\"),\n",
    "])\n",
    "\n",
    "def load_memory(_):\n",
    "    # '_' mean omit input code.\n",
    "    return memory.load_memory_variables({})[\"chat_history\"]\n",
    "# Upper code is def for get memory variable\n",
    "# 'RunnablePassthrought.assign()' must take at least one argument. So, we need to enter input.\n",
    "# So, we give input in function, and print(input)\n",
    "\n",
    "chain = RunnablePassthrough.assign(chat_history = load_memory) | prompt | llm\n",
    "# Upper code is make chain yourself.\n",
    "# When starting a chain. RunnablePassthrought.assign starts load_memory first, then prompts and then llm.\n",
    "# 'RunnablePassthrought' function allows you to use a function before the prompt is format.\n",
    "# And also, we can assign any value we want to that function 'chat_history = load_memory'\n",
    "# And that variable is given to the prompt.\n",
    "# 'RunnablePassthrought.assign()' must take at least one argument. So, we need to enter input.\n",
    "\n",
    "chain.invoke({\"question\" : \"My name is chandon\"})\n",
    "# Upper Code == dictionary, the first input item provided in the chain."
   ]
  }
 ],
 "metadata": {
  "kernelspec": {
   "display_name": "env",
   "language": "python",
   "name": "python3"
  },
  "language_info": {
   "codemirror_mode": {
    "name": "ipython",
    "version": 3
   },
   "file_extension": ".py",
   "mimetype": "text/x-python",
   "name": "python",
   "nbconvert_exporter": "python",
   "pygments_lexer": "ipython3",
   "version": "3.11.6"
  }
 },
 "nbformat": 4,
 "nbformat_minor": 2
}
